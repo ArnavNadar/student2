{
 "cells": [
  {
   "cell_type": "markdown",
   "metadata": {},
   "source": [
    "---\n",
    "toc: true\n",
    "comments: true\n",
    "layout: post\n",
    "title: Individual Review Ticket\n",
    "description: Individual Review Ticket for Arnav Nadar\n",
    "type: plans\n",
    "courses: { compsci: {week: 19} }\n",
    "---\n",
    "\n",
    "# Welcome to my individual review ticket\n",
    "\n",
    "\n",
    "## Table ticket\n",
    "[Table ticket](https://github.com/nighthawkcoders/teacher_portfolio/issues/92#:~:text=P2%2C%20Torin%20Wolff%2C%20Happy%20New%20Year), this is the link to the table ticket tha goes over all the team teach work.\n",
    "\n",
    "## Individual work\n",
    "\n",
    "## Weekly plans for CPT prep\n",
    "\n",
    "Week 1: We intend to work toward perfecting a website login system that stores data in a database and a virtual private server.\n",
    "    Week 2: Complete ideation and start designing the page. - Start working on the login system using a CSV file and connections from the vps and the github pages website.\n",
    "    - To prevent fraud, begin developing a database to hold the username, password, and possibly email.\n",
    "    - Customizing the home page and suggestions according to individual tastes\n",
    "Week 3: Complete the login process and begin developing the home page\n",
    "    - Get to work on the stock monitoring system in real time.\n",
    "    Work on the webpage design should continue. Week 4 should see the completion of the home page and the beginning of the stock monitoring system.\n",
    "\n",
    "Week 4:\n",
    "    - Complete the home page and initiate development of the stock monitoring system.\n",
    "    commence the development of the stock monitoring system.\n",
    "    Progress with the design of the webpage.\n",
    "\n",
    "Week 5:\n",
    "   - Finalize the stock monitoring system and begin work on the stock prediction system.\n",
    "    Complete the stock prediction system.\n",
    "    (If all tasks are completed) Work on a currency conversion system for USD to Bitcoin, or CAD to USD, etc."
   ]
  }
 ],
 "metadata": {
  "language_info": {
   "name": "python"
  }
 },
 "nbformat": 4,
 "nbformat_minor": 2
}
