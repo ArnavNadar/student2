{
 "cells": [
  {
   "cell_type": "markdown",
   "metadata": {},
   "source": [
    "---\n",
    "toc: true\n",
    "comments: true\n",
    "layout: post\n",
    "title: CB questioni review\n",
    "description: College board tests corrections. \n",
    "type: plans\n",
    "courses: { compsci: {week: 20} }\n",
    "---"
   ]
  },
  {
   "cell_type": "markdown",
   "metadata": {},
   "source": [
    "<img src=\"https://postimg.cc/JHHpmm9y\" width=\"500px\" height=\"400px\">\n"
   ]
  },
  {
   "cell_type": "markdown",
   "metadata": {},
   "source": [
    "Option A is the right answer.\n",
    "\n",
    "\n",
    " Program A starts by initializing i to 1. It prints i and then increases i inside the loop. When i goes over 10, which will happen after 10 is printed, the loop will break.  It then prints 1 through 10 from Program A. Program B initializes i to 0. It prints i after increasing inside the loop. The loop ends when i reaches 10, which happens after 10 is printed. Program B then generates a printout of 1 through 10."
   ]
  }
 ],
 "metadata": {
  "language_info": {
   "name": "python"
  }
 },
 "nbformat": 4,
 "nbformat_minor": 2
}
