{
 "cells": [
  {
   "cell_type": "markdown",
   "metadata": {},
   "source": [
    "---\n",
    "toc: false\n",
    "comments: false\n",
    "layout: post\n",
    "title: Team Teach Data Abstraction\n",
    "description: team teach\n",
    "courses: { compsci: {week: 4} }\n",
    "type: hacks\n",
    "---"
   ]
  },
  {
   "cell_type": "markdown",
   "metadata": {},
   "source": [
    "## Variables and Assignments\n",
    "\n",
    "\n",
    "-> Assignments and variables are fundamental ideas in computer programming. They give programmers the ability to manage, store, and alter data. In the realm of programming and computer science, knowing how to declare and assign values to variables is an essential ability.\n"
   ]
  },
  {
   "cell_type": "markdown",
   "metadata": {},
   "source": [
    "## Different types of Data (Data Type)\n",
    "\n",
    "Data types are a kind of variable in which there are 3 main ones listed below: \n",
    "\n",
    "-> Integer\n",
    "    ⚫ Mathmatecal number\n",
    "-> Boolean\n",
    "    ⚫ true or false\n",
    "    ⚫ yes or no\n",
    "-> Text (aka string)\n",
    "    ⚫ anything text stored variable"
   ]
  },
  {
   "cell_type": "code",
   "execution_count": 2,
   "metadata": {},
   "outputs": [
    {
     "name": "stdout",
     "output_type": "stream",
     "text": [
      "100\n",
      "False\n",
      "blue\n"
     ]
    }
   ],
   "source": [
    "highScore = 100 #integer\n",
    "isFriday = False  #boolean\n",
    "favColor = \"blue\"  #text/string\n",
    "\n",
    "print(str(highScore))\n",
    "print(str(isFriday))\n",
    "print(str(favColor))"
   ]
  },
  {
   "cell_type": "markdown",
   "metadata": {},
   "source": [
    "## Popcorn Hack\n",
    "\n",
    "Define an integer, a boolean, and a string and print all three of them together"
   ]
  },
  {
   "cell_type": "code",
   "execution_count": 3,
   "metadata": {},
   "outputs": [
    {
     "name": "stdout",
     "output_type": "stream",
     "text": [
      "10000  True  Arnav Nadar\n"
     ]
    }
   ],
   "source": [
    "bigNumber = 10000\n",
    "isWednesday = True\n",
    "firstName = \"Arnav Nadar\"\n",
    "\n",
    "print(str(bigNumber) + \"  \"  + str(isWednesday) + \"  \" + str(firstName))"
   ]
  },
  {
   "cell_type": "markdown",
   "metadata": {},
   "source": [
    "## Changing/Replacing/Assigning variables\n",
    "\n",
    "A variable will not change by it self so you will have to update the variable constantly. An example of this could be the variable of someone's changing height.\n",
    "\n"
   ]
  },
  {
   "cell_type": "code",
   "execution_count": 5,
   "metadata": {},
   "outputs": [
    {
     "name": "stdout",
     "output_type": "stream",
     "text": [
      "70\n",
      "100\n"
     ]
    }
   ],
   "source": [
    "currentScore = 100 \n",
    "\n",
    "highScore = currentScore  # overe here we are assigning the value of currentscore to highScore, so right now bot strings have a value of 100\n",
    "\n",
    "currentScore = 70  # Over here when you assign currentScore a new value that doesn't mean highScore changes. \n",
    "\n",
    "print(str(currentScore))\n",
    "\n",
    "print(str(highScore))"
   ]
  },
  {
   "cell_type": "code",
   "execution_count": 6,
   "metadata": {},
   "outputs": [
    {
     "name": "stdout",
     "output_type": "stream",
     "text": [
      "50\n",
      "50\n",
      "30\n"
     ]
    }
   ],
   "source": [
    "# This ones a little harder!\n",
    "\n",
    "num1 = 30\n",
    "num2 = 100\n",
    "num3 = 50\n",
    "num2 = num3\n",
    "num3 = num1\n",
    "num1 = num2\n",
    "\n",
    "print(str(num1))\n",
    "\n",
    "print(str(num2))\n",
    "\n",
    "print(str(num3))"
   ]
  }
 ],
 "metadata": {
  "kernelspec": {
   "display_name": "Python 3 (ipykernel)",
   "language": "python",
   "name": "python3"
  },
  "language_info": {
   "codemirror_mode": {
    "name": "ipython",
    "version": 3
   },
   "file_extension": ".py",
   "mimetype": "text/x-python",
   "name": "python",
   "nbconvert_exporter": "python",
   "pygments_lexer": "ipython3",
   "version": "3.10.12"
  }
 },
 "nbformat": 4,
 "nbformat_minor": 2
}
