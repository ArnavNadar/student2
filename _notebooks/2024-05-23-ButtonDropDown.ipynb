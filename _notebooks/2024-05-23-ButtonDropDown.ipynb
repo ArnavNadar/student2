{
 "cells": [
  {
   "cell_type": "code",
   "execution_count": null,
   "metadata": {},
   "outputs": [],
   "source": [
    "---\n",
    "comments: True\n",
    "layout: post\n",
    "toc: false\n",
    "title: Button Drop Down\n",
    "permalink: /button\n",
    "description: Drop Down\n",
    "type: hacks\n",
    "courses: { \"compsci\": { \"week\": 24 } }\n",
    "---\n"
   ]
  },
  {
   "cell_type": "code",
   "execution_count": null,
   "metadata": {},
   "outputs": [],
   "source": [
    "import tkinter as tk\n",
    "from tkinter import ttk\n",
    "\n",
    "def show_menu(event):\n",
    "    # Post the dropdown menu just below the button\n",
    "    dropdown_menu.post(event.x_root, event.y_root)\n",
    "\n",
    "# Create the main window\n",
    "root = tk.Tk()\n",
    "root.title(\"Dropdown Button Example\")\n",
    "root.geometry(\"300x200\")\n",
    "\n",
    "# Create a button\n",
    "button = ttk.Button(root, text=\"Click me\")\n",
    "\n",
    "# Create the dropdown menu\n",
    "dropdown_menu = tk.Menu(root, tearoff=0)\n",
    "dropdown_menu.add_command(label=\"Option 1\")\n",
    "dropdown_menu.add_command(label=\"Option 2\")\n",
    "dropdown_menu.add_command(label=\"Option 3\")\n",
    "\n",
    "# Bind the button click event to the show_menu function\n",
    "button.bind(\"<Button-1>\", show_menu)\n",
    "\n",
    "# Place the button in the window\n",
    "button.pack(pady=20)\n",
    "\n",
    "# Start the Tkinter event loop\n",
    "root.mainloop()\n"
   ]
  }
 ],
 "metadata": {
  "language_info": {
   "name": "python"
  }
 },
 "nbformat": 4,
 "nbformat_minor": 2
}
